{
  "nbformat": 4,
  "nbformat_minor": 0,
  "metadata": {
    "colab": {
      "name": "FINAL TEAM LAB.ipynb",
      "provenance": [],
      "collapsed_sections": [],
      "include_colab_link": true
    },
    "kernelspec": {
      "name": "python3",
      "display_name": "Python 3"
    }
  },
  "cells": [
    {
      "cell_type": "markdown",
      "metadata": {
        "id": "view-in-github",
        "colab_type": "text"
      },
      "source": [
        "<a href=\"https://colab.research.google.com/github/zachravas/TypesOfGraphs/blob/master/FINAL_TEAM_LAB.ipynb\" target=\"_parent\"><img src=\"https://colab.research.google.com/assets/colab-badge.svg\" alt=\"Open In Colab\"/></a>"
      ]
    },
    {
      "cell_type": "markdown",
      "metadata": {
        "id": "Kw5PZBtl0Ob6",
        "colab_type": "text"
      },
      "source": [
        "# Current COVID-19 Cases vs Avererage Income of Each State"
      ]
    },
    {
      "cell_type": "markdown",
      "metadata": {
        "id": "iXWAmSVB0Rno",
        "colab_type": "text"
      },
      "source": [
        "Contributors:\n",
        "\n",
        "\n",
        "*   Zach Ravas\n",
        "*   Kevin Jafar\n",
        "*   Nicholas Rizzolo\n",
        "\n",
        "\n",
        "\n"
      ]
    },
    {
      "cell_type": "markdown",
      "metadata": {
        "id": "WpaW-i5l0ZHn",
        "colab_type": "text"
      },
      "source": [
        "## Background"
      ]
    },
    {
      "cell_type": "markdown",
      "metadata": {
        "id": "E4VKsOvP0eev",
        "colab_type": "text"
      },
      "source": [
        "The background of this project is to compare the average income per person and the amount of COVID-19 cases per state. Currently, the amount of COVID-19 cases is increasing in the United States as a whole, but some states are having a larger outbreak on others. The data plot is created to determine if one of the causes for the outbreak in certain states is due to the average income per person. This would mean that those states that have a lower average income per person would cause the higher amount of cases of COVID-19 per state. This would also mean that the states with a higher average income per person would have a lower amount of COVID-19 cases. The data plot is to show the most recent collection of cases and average income per state to show the immediate correlation between the two data sets instead of the progress over time from the start of the outbreak. The states on the map go from a light to dark color scale to represent the amount of COVID-19 cases per state. The map can then be related to the bar graph below that shows the average income per person in each state. The amount of cases isn’t only affected by the average income per person in each state because there are other factors that lead to the increase of cases. The purpose of comparing these two data sets is to see if it is one of the many causes of the increase of cases in each state. \n",
        "\n"
      ]
    },
    {
      "cell_type": "markdown",
      "metadata": {
        "id": "7d8vfcGufV0_",
        "colab_type": "text"
      },
      "source": [
        "### Goal"
      ]
    },
    {
      "cell_type": "markdown",
      "metadata": {
        "id": "e1jKSGTjfY2H",
        "colab_type": "text"
      },
      "source": [
        "The goal of this data model is to determine whether or not the average income per person is having an effect on the amount of cases of COVID-19 per state."
      ]
    },
    {
      "cell_type": "markdown",
      "metadata": {
        "id": "GOxy_TvCfi54",
        "colab_type": "text"
      },
      "source": [
        "### Assumptions"
      ]
    },
    {
      "cell_type": "markdown",
      "metadata": {
        "id": "cw1v_1MMfnAR",
        "colab_type": "text"
      },
      "source": [
        "Insert 10 assumptions for your data model:\n",
        "*   The amount of cases increase each day\n",
        "*   The average income changes each day\n",
        "*   Efforts to reduce the curve varies per state\n",
        "*   Not all data of cases are released\n",
        "*   Average income is not the only thing having an effect on the cases increase\n",
        "*   The cases may include people living outside of the US that are visting\n",
        "*   The cases include any instance of a person testing positive for COVID-19\n",
        "*   Hospitals will begin to open up more rooms\n",
        "*   Active cases should start reducing\n",
        "*   The states with ahigher average income have the least amount of cases.\n",
        "\n"
      ]
    },
    {
      "cell_type": "markdown",
      "metadata": {
        "id": "jKGILpu7gWr6",
        "colab_type": "text"
      },
      "source": [
        "### Data Sources"
      ]
    },
    {
      "cell_type": "markdown",
      "metadata": {
        "id": "uwCao7AtgbNn",
        "colab_type": "text"
      },
      "source": [
        "insert your data sources here and why you selected them - 250 words.\n",
        "Did you join sources together, how did you join them? You are required to include 2 sources.\n",
        "\n",
        "1) https://github.com/CSSEGISandData/COVID-19/blob/master/csse_covid_19_data/csse_covid_19_daily_reports_us/04-25-2020.csv\n",
        "\n",
        "2)https://en.wikipedia.org/wiki/List_of_U.S._states_and_territories_by_income\n",
        "\n",
        "Yes, we joined them by using the inner joint feature and combining like data sources from each data set. From the updated COVID-19 data we took the Province State and from the Average Incomes we took State. Combining these two data sources allowed us to look at which states had the highest average income vs how many active cases that state had at the same time. We selected these two data sources because they were both reliable and had the information, we needed to conduct our case study.  The first data set was received from Johns Hopkins University COVID-19 data which they kept in GitHub.  This made converting the data into a txt file very easy since it was already in GitHub and we just had to take the raw data and paste it into notepad and save it.  This data for COVID-19 is the most current data and is from three days ago.  We wanted to use the most recent data to really show how up to date our graph and dashboard are.  The other data set we used was the average incomes for each state from 2018. We got the data from Wikipedia which sometimes can’t be the best resource but we made sure it was accurate and made sense for our dashboard. Using 2018 data compared to 2019-2020 data doesn’t change much for income.  It only changes a couple thousand dollars a year and with how large that number is already, the graph barley changes so that is why we stuck with this data set.  Overall, these two data sets are both reliable and have the right data for what our case study needed.\n",
        "\n"
      ]
    },
    {
      "cell_type": "markdown",
      "metadata": {
        "id": "kDgSdoQUgg2Z",
        "colab_type": "text"
      },
      "source": [
        "#### Sources"
      ]
    },
    {
      "cell_type": "markdown",
      "metadata": {
        "id": "dFzYIi0Agi2_",
        "colab_type": "text"
      },
      "source": [
        "\n",
        "\n",
        "1) https://github.com/CSSEGISandData/COVID-19/blob/master/csse_covid_19_data/csse_covid_19_daily_reports_us/04-25-2020.csv   (Updatetd COCID-19 Information from John Hopkins Unviversity)\n",
        "\n",
        "2)https://en.wikipedia.org/wiki/List_of_U.S._states_and_territories_by_income  ( Average Income for each State in 2018, Wikipedia)"
      ]
    },
    {
      "cell_type": "markdown",
      "metadata": {
        "id": "qcFak2v7g3jt",
        "colab_type": "text"
      },
      "source": [
        "## Dashboard (5)"
      ]
    },
    {
      "cell_type": "code",
      "metadata": {
        "id": "knG79vNP0Q0u",
        "colab_type": "code",
        "outputId": "48d9e75a-6b53-4833-8edb-29a4f0c9b81a",
        "colab": {
          "base_uri": "https://localhost:8080/",
          "height": 1000
        }
      },
      "source": [
        "import IPython\n",
        "IPython.display.HTML(\"<div class='tableauPlaceholder' id='viz1588008897299' style='position: relative'><noscript><a href='#'><img alt=' ' src='https:&#47;&#47;public.tableau.com&#47;static&#47;images&#47;Gr&#47;GroupLAB&#47;Dashboard1&#47;1_rss.png' style='border: none' /></a></noscript><object class='tableauViz'  style='display:none;'><param name='host_url' value='https%3A%2F%2Fpublic.tableau.com%2F' /> <param name='embed_code_version' value='3' /> <param name='site_root' value='' /><param name='name' value='GroupLAB&#47;Dashboard1' /><param name='tabs' value='no' /><param name='toolbar' value='yes' /><param name='static_image' value='https:&#47;&#47;public.tableau.com&#47;static&#47;images&#47;Gr&#47;GroupLAB&#47;Dashboard1&#47;1.png' /> <param name='animate_transition' value='yes' /><param name='display_static_image' value='yes' /><param name='display_spinner' value='yes' /><param name='display_overlay' value='yes' /><param name='display_count' value='yes' /><param name='filter' value='publish=yes' /></object></div>                <script type='text/javascript'>                    var divElement = document.getElementById('viz1588008897299');                    var vizElement = divElement.getElementsByTagName('object')[0];                    if ( divElement.offsetWidth > 800 ) { vizElement.style.minWidth='420px';vizElement.style.maxWidth='1650px';vizElement.style.width='100%';vizElement.style.minHeight='787px';vizElement.style.maxHeight='1287px';vizElement.style.height=(divElement.offsetWidth*0.75)+'px';} else if ( divElement.offsetWidth > 500 ) { vizElement.style.minWidth='420px';vizElement.style.maxWidth='1650px';vizElement.style.width='100%';vizElement.style.minHeight='787px';vizElement.style.maxHeight='1287px';vizElement.style.height=(divElement.offsetWidth*0.75)+'px';} else { vizElement.style.width='100%';vizElement.style.height='777px';}                     var scriptElement = document.createElement('script');                    scriptElement.src = 'https://public.tableau.com/javascripts/api/viz_v1.js';                    vizElement.parentNode.insertBefore(scriptElement, vizElement);                </script>\")\n"
      ],
      "execution_count": 0,
      "outputs": [
        {
          "output_type": "execute_result",
          "data": {
            "text/html": [
              "<div class='tableauPlaceholder' id='viz1588008897299' style='position: relative'><noscript><a href='#'><img alt=' ' src='https:&#47;&#47;public.tableau.com&#47;static&#47;images&#47;Gr&#47;GroupLAB&#47;Dashboard1&#47;1_rss.png' style='border: none' /></a></noscript><object class='tableauViz'  style='display:none;'><param name='host_url' value='https%3A%2F%2Fpublic.tableau.com%2F' /> <param name='embed_code_version' value='3' /> <param name='site_root' value='' /><param name='name' value='GroupLAB&#47;Dashboard1' /><param name='tabs' value='no' /><param name='toolbar' value='yes' /><param name='static_image' value='https:&#47;&#47;public.tableau.com&#47;static&#47;images&#47;Gr&#47;GroupLAB&#47;Dashboard1&#47;1.png' /> <param name='animate_transition' value='yes' /><param name='display_static_image' value='yes' /><param name='display_spinner' value='yes' /><param name='display_overlay' value='yes' /><param name='display_count' value='yes' /><param name='filter' value='publish=yes' /></object></div>                <script type='text/javascript'>                    var divElement = document.getElementById('viz1588008897299');                    var vizElement = divElement.getElementsByTagName('object')[0];                    if ( divElement.offsetWidth > 800 ) { vizElement.style.minWidth='420px';vizElement.style.maxWidth='1650px';vizElement.style.width='100%';vizElement.style.minHeight='787px';vizElement.style.maxHeight='1287px';vizElement.style.height=(divElement.offsetWidth*0.75)+'px';} else if ( divElement.offsetWidth > 500 ) { vizElement.style.minWidth='420px';vizElement.style.maxWidth='1650px';vizElement.style.width='100%';vizElement.style.minHeight='787px';vizElement.style.maxHeight='1287px';vizElement.style.height=(divElement.offsetWidth*0.75)+'px';} else { vizElement.style.width='100%';vizElement.style.height='777px';}                     var scriptElement = document.createElement('script');                    scriptElement.src = 'https://public.tableau.com/javascripts/api/viz_v1.js';                    vizElement.parentNode.insertBefore(scriptElement, vizElement);                </script>"
            ],
            "text/plain": [
              "<IPython.core.display.HTML object>"
            ]
          },
          "metadata": {
            "tags": []
          },
          "execution_count": 1
        }
      ]
    },
    {
      "cell_type": "markdown",
      "metadata": {
        "id": "SvWfnlDjnos1",
        "colab_type": "text"
      },
      "source": [
        "## Conclusion"
      ]
    },
    {
      "cell_type": "markdown",
      "metadata": {
        "id": "rfWefr2gnxOG",
        "colab_type": "text"
      },
      "source": [
        "In conclusion, the data above proves useful because of the simplicity of the graphs shown. When you hover over a state it will tell you the amount of cases the state has while pointing out the specific state on the bar graph and greying out the irrelevant ones. Alongside that, the color coding of the map indicates to us that the darker the state is in terms of color, the more cases of COVID that state has. Then, the bar graph tells us the average amount of income that an individual receives compared to the amount of cases shown on the map. Of these datasets it seems that the correlation between average income and amount of cases are weakly connected to each other. Taking a look at the most prominent state on the graph New York, which has the most confirmed cases, is sitting a few slots below Maryland on the bar graph who has the highest average income out of all the states. Meaning that New York should be the highest income state because of the amount of cases it has but that isn't the case. Maryland, which has the highest income at 83 Thousand, only has about 18,000 cases which is 200 thousand less than New York which has an average income of about 67 thousand. Even Hawaii, which has an average income of 80 thousand, is only sitting at around 600 cases of COVID-19. In a sense, you would think that the more income someone has, the more prepared they would be to fend off influenza, but according to the data this isn't the case. No matter how much money you have, humans aren't immune to sickness and everyone is always at risk to catch it if they go outside and mingle with many other people and places. Money can help you get hand sanitizer and gloves and masks but it can’t be used to pay off nature from impacting society. In another situation, if we were to compare the amount of cases to another variable to explain spread it would be the poverty rate and other variables such as state preparedness and reaction time. This is because those who don’t have anything to prepare themselves seem more likely to be impacted by the virus, especially those states who closed down faster than others were quick to make decisions that would amount to saving human life. Population of states is also key to take into consideration because states like Montana which have around a 53 thousand dollar income, have around a total of 445 confirmed cases. Alaska is also a great example of how the data contradicts what we're trying to prove because it's the biggest state out of all of the U.S. and has a population of 700 thousand but only has 339 cases of COVID. It has a pretty high income rate at around 75 thousand but since it's isolated and most likely shut down quickly, the amount of cases is way less than any in the United States itself. So, in the end, an individual can't only look at one variable to be able to explain the spread of COVID in the United States, but rather the effect of every action taken by the state and individuals as a whole."
      ]
    }
  ]
}